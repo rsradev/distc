{
 "cells": [
  {
   "cell_type": "code",
   "execution_count": 1,
   "metadata": {},
   "outputs": [],
   "source": [
    "from pyspark.sql import SparkSession\n",
    "import pyspark.sql.functions as F\n",
    "from pyspark.sql.types import StructType, StructField, IntegerType, DoubleType\n"
   ]
  },
  {
   "cell_type": "code",
   "execution_count": 3,
   "metadata": {},
   "outputs": [
    {
     "name": "stderr",
     "output_type": "stream",
     "text": [
      "24/04/15 22:15:10 WARN Utils: Your hostname, mac-radi.local resolves to a loopback address: 127.0.0.1; using 192.168.100.19 instead (on interface en0)\n",
      "24/04/15 22:15:10 WARN Utils: Set SPARK_LOCAL_IP if you need to bind to another address\n",
      "Setting default log level to \"WARN\".\n",
      "To adjust logging level use sc.setLogLevel(newLevel). For SparkR, use setLogLevel(newLevel).\n",
      "24/04/15 22:15:11 WARN NativeCodeLoader: Unable to load native-hadoop library for your platform... using builtin-java classes where applicable\n"
     ]
    },
    {
     "data": {
      "text/html": [
       "\n",
       "            <div>\n",
       "                <p><b>SparkSession - in-memory</b></p>\n",
       "                \n",
       "        <div>\n",
       "            <p><b>SparkContext</b></p>\n",
       "\n",
       "            <p><a href=\"http://192.168.100.19:4040\">Spark UI</a></p>\n",
       "\n",
       "            <dl>\n",
       "              <dt>Version</dt>\n",
       "                <dd><code>v3.5.1</code></dd>\n",
       "              <dt>Master</dt>\n",
       "                <dd><code>local[*]</code></dd>\n",
       "              <dt>AppName</dt>\n",
       "                <dd><code>SparkTutorial</code></dd>\n",
       "            </dl>\n",
       "        </div>\n",
       "        \n",
       "            </div>\n",
       "        "
      ],
      "text/plain": [
       "<pyspark.sql.session.SparkSession at 0x10fedfe10>"
      ]
     },
     "execution_count": 3,
     "metadata": {},
     "output_type": "execute_result"
    },
    {
     "name": "stderr",
     "output_type": "stream",
     "text": [
      "24/04/15 22:15:22 WARN GarbageCollectionMetrics: To enable non-built-in garbage collector(s) List(G1 Concurrent GC), users should configure it(them) to spark.eventLog.gcMetrics.youngGenerationGarbageCollectors or spark.eventLog.gcMetrics.oldGenerationGarbageCollectors\n"
     ]
    }
   ],
   "source": [
    "spark = (\n",
    "            SparkSession\n",
    "            .builder\n",
    "            .appName('SparkDemo') \n",
    "            .master('local[*]') \n",
    "            .getOrCreate()\n",
    ")\n",
    "\n",
    "sc = spark.sparkContext\n",
    "\n",
    "spark"
   ]
  },
  {
   "cell_type": "code",
   "execution_count": 10,
   "metadata": {},
   "outputs": [],
   "source": [
    "schema = StructType([\n",
    "    StructField(\"age\", IntegerType(), True),\n",
    "    StructField(\"sex\", IntegerType(), True),\n",
    "    StructField(\"cp\", IntegerType(), True),\n",
    "    StructField(\"trestbps\", IntegerType(), True),\n",
    "    StructField(\"chol\", IntegerType(), True),\n",
    "    StructField(\"fbs\", IntegerType(), True),\n",
    "    StructField(\"restecg\", IntegerType(), True),\n",
    "    StructField(\"thalach\", IntegerType(), True),\n",
    "    StructField(\"exang\", IntegerType(), True),\n",
    "    StructField(\"oldpeak\", DoubleType(), True),\n",
    "    StructField(\"slope\", IntegerType(), True),\n",
    "    StructField(\"ca\", IntegerType(), True),\n",
    "    StructField(\"thal\", IntegerType(), True),\n",
    "    StructField(\"target\", IntegerType(), True)\n",
    "])"
   ]
  },
  {
   "cell_type": "code",
   "execution_count": 11,
   "metadata": {},
   "outputs": [],
   "source": [
    "df_heart = (\n",
    "    spark\n",
    "        .read\n",
    "        .option('header', 'true')\n",
    "        .csv(\n",
    "            './data/heart-disease.csv', \n",
    "            schema=schema)\n",
    ")"
   ]
  },
  {
   "cell_type": "code",
   "execution_count": 44,
   "metadata": {},
   "outputs": [],
   "source": [
    "df_trans = df_heart.select(\n",
    "    F.col('age'), \n",
    "    F.col('sex'),\n",
    "    F.col('chol'),\n",
    "    F.col('thalach'),\n",
    "    F.col('target')\n",
    ")"
   ]
  },
  {
   "cell_type": "code",
   "execution_count": 71,
   "metadata": {},
   "outputs": [],
   "source": [
    "df_trans = df_trans.filter(F.col('target') == 1)"
   ]
  },
  {
   "cell_type": "code",
   "execution_count": 76,
   "metadata": {},
   "outputs": [],
   "source": [
    "df_trans_agg_age = df_trans.groupBy(F.col('age')).agg(F.count(\"target\").alias('incident count'))"
   ]
  },
  {
   "cell_type": "code",
   "execution_count": 77,
   "metadata": {},
   "outputs": [],
   "source": [
    "df_trans_agg_age = df_trans_agg_age.sort(F.col('age'), ascending=False)"
   ]
  },
  {
   "cell_type": "code",
   "execution_count": 80,
   "metadata": {},
   "outputs": [
    {
     "name": "stdout",
     "output_type": "stream",
     "text": [
      "+---+--------------+\n",
      "|age|incident count|\n",
      "+---+--------------+\n",
      "| 76|             1|\n",
      "| 74|             1|\n",
      "| 71|             3|\n",
      "| 70|             1|\n",
      "| 69|             2|\n",
      "| 68|             2|\n",
      "| 67|             3|\n",
      "| 66|             4|\n",
      "| 65|             4|\n",
      "| 64|             6|\n",
      "| 63|             3|\n",
      "| 62|             4|\n",
      "| 61|             1|\n",
      "| 60|             3|\n",
      "| 59|             5|\n",
      "| 58|             7|\n",
      "| 57|             7|\n",
      "| 56|             5|\n",
      "| 55|             3|\n",
      "| 54|            10|\n",
      "+---+--------------+\n",
      "only showing top 20 rows\n",
      "\n"
     ]
    }
   ],
   "source": [
    "df_trans_agg_age.show()"
   ]
  },
  {
   "cell_type": "code",
   "execution_count": 53,
   "metadata": {},
   "outputs": [],
   "source": [
    "df_trans_agg_sex = df_trans.groupBy(F.col('sex')).agg(F.count(\"target\").alias('incident count'))"
   ]
  },
  {
   "cell_type": "code",
   "execution_count": 54,
   "metadata": {},
   "outputs": [
    {
     "name": "stdout",
     "output_type": "stream",
     "text": [
      "+---+--------------+\n",
      "|sex|incident count|\n",
      "+---+--------------+\n",
      "|  1|            93|\n",
      "|  0|            72|\n",
      "+---+--------------+\n",
      "\n"
     ]
    }
   ],
   "source": [
    "df_trans_agg_sex.show()"
   ]
  }
 ],
 "metadata": {
  "kernelspec": {
   "display_name": "Python 3",
   "language": "python",
   "name": "python3"
  },
  "language_info": {
   "codemirror_mode": {
    "name": "ipython",
    "version": 3
   },
   "file_extension": ".py",
   "mimetype": "text/x-python",
   "name": "python",
   "nbconvert_exporter": "python",
   "pygments_lexer": "ipython3",
   "version": "3.11.2"
  },
  "orig_nbformat": 4
 },
 "nbformat": 4,
 "nbformat_minor": 2
}
